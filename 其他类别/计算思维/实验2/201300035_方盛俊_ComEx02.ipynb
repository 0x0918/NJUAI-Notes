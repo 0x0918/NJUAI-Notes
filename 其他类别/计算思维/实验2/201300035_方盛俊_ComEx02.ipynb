{
 "cells": [
  {
   "cell_type": "code",
   "execution_count": null,
   "metadata": {},
   "outputs": [],
   "source": [
    "import numpy as np\n",
    "\n",
    "def img2vector(filename):\n",
    "    # 创建向量\n",
    "    return_vec = np.zeros((1, 1024))\n",
    "    # 打开数据文件，读取每行内容\n",
    "    fr = open(filename)\n",
    "    for i in range(32):\n",
    "        # 读取每一行\n",
    "        line_str = fr.readline()\n",
    "        # 将每行前 32 字符转成 int 存入向量\n",
    "        for j in range(32):\n",
    "            return_vec[0, 32 * i + j] = int(line_str[j])\n",
    "            \n",
    "    return return_vec"
   ]
  },
  {
   "cell_type": "code",
   "execution_count": null,
   "metadata": {},
   "outputs": [],
   "source": [
    "import operator\n",
    "\n",
    "def classify0(inX, dataSet, labels, k):    \n",
    "    \"\"\"\n",
    "    参数: \n",
    "    - inX: 用于分类的输入向量\n",
    "    - dataSet: 输入的训练样本集\n",
    "    - labels: 样本数据的类标签向量\n",
    "    - k: 用于选择最近邻居的数目\n",
    "    \"\"\"\n",
    "    \n",
    "    # 获取样本数据数量\n",
    "    dataSetSize = dataSet.shape[0]\n",
    "\n",
    "    # 矩阵运算，计算测试数据与每个样本数据对应数据项的差值\n",
    "    diffMat = np.tile(inX, (dataSetSize, 1)) - dataSet\n",
    "\n",
    "    # sqDistances 上一步骤结果平方和\n",
    "    sqDiffMat = diffMat**2\n",
    "    sqDistances = sqDiffMat.sum(axis=1)\n",
    "\n",
    "    # 取平方根，得到距离向量\n",
    "    distances = sqDistances**0.5\n",
    "\n",
    "    # 按照距离从低到高排序\n",
    "    sortedDistIndices = distances.argsort()\n",
    "    classCount = {}\n",
    "\n",
    "    # 依次取出最近的样本数据\n",
    "    for i in range(k):\n",
    "        # 记录该样本数据所属的类别\n",
    "        voteIlabel = labels[sortedDistIndices[i]]\n",
    "        classCount[voteIlabel] = classCount.get(voteIlabel, 0) + 1\n",
    "\n",
    "    # 对类别出现的频次进行排序，从高到低\n",
    "    sortedClassCount = sorted(\n",
    "        classCount.items(), key=operator.itemgetter(1), reverse=True)\n",
    "\n",
    "    # 返回出现频次最高的类别\n",
    "    return sortedClassCount[0][0]"
   ]
  },
  {
   "cell_type": "code",
   "execution_count": 11,
   "metadata": {},
   "outputs": [],
   "source": [
    "from os import listdir\n",
    "\n",
    "def handwritingClassTest(k):\n",
    "    # 样本数据的类标签列表\n",
    "    hwLabels = []\n",
    "\n",
    "    # 样本数据文件列表\n",
    "    trainingFileList = listdir('digits/trainingDigits')\n",
    "    m = len(trainingFileList)\n",
    "\n",
    "    # 初始化样本数据矩阵（M*1024）\n",
    "    trainingMat = np.zeros((m, 1024))\n",
    "\n",
    "    # 依次读取所有样本数据到数据矩阵\n",
    "    for i in range(m):\n",
    "        # 提取文件名中的数字\n",
    "        fileNameStr = trainingFileList[i]\n",
    "        fileStr = fileNameStr.split('.')[0]\n",
    "        classNumStr = int(fileStr.split('_')[0])\n",
    "        hwLabels.append(classNumStr)\n",
    "\n",
    "        # 将样本数据存入矩阵\n",
    "        trainingMat[i, :] = img2vector(\n",
    "            'digits/trainingDigits/%s' % fileNameStr)\n",
    "\n",
    "    # 循环读取测试数据\n",
    "    testFileList = listdir('digits/testDigits')\n",
    "\n",
    "    # 初始化错误率\n",
    "    errorCount = 0.0\n",
    "    mTest = len(testFileList)\n",
    "\n",
    "    # 循环测试每个测试数据文件\n",
    "    for i in range(mTest):\n",
    "        # 提取文件名中的数字\n",
    "        fileNameStr = testFileList[i]\n",
    "        fileStr = fileNameStr.split('.')[0]\n",
    "        classNumStr = int(fileStr.split('_')[0])\n",
    "\n",
    "        # 提取数据向量\n",
    "        vectorUnderTest = img2vector('digits/testDigits/%s' % fileNameStr)\n",
    "\n",
    "        # 对数据文件进行分类\n",
    "        classifierResult = classify0(vectorUnderTest, trainingMat, hwLabels, k)\n",
    "\n",
    "        # 打印 K 近邻算法分类结果和真实的分类\n",
    "        # print(\"测试样本 %d, 分类器预测: %d, 真实类别: %d\" %\n",
    "        #       (i+1, classifierResult, classNumStr))\n",
    "\n",
    "        # 判断K 近邻算法结果是否准确\n",
    "        if (classifierResult != classNumStr):\n",
    "            errorCount += 1.0\n",
    "\n",
    "    # 打印错误率\n",
    "    return errorCount"
   ]
  },
  {
   "cell_type": "code",
   "execution_count": 12,
   "metadata": {},
   "outputs": [
    {
     "name": "stderr",
     "output_type": "stream",
     "text": [
      "findfont: Font family ['sans-serif'] not found. Falling back to DejaVu Sans.\n",
      "findfont: Generic family 'sans-serif' not found because none of the following families were found: SimHei\n",
      "/home/orangex4/.local/lib/python3.8/site-packages/matplotlib/backends/backend_agg.py:240: RuntimeWarning: Glyph 19981 missing from current font.\n",
      "  font.set_text(s, 0.0, flags=flags)\n",
      "/home/orangex4/.local/lib/python3.8/site-packages/matplotlib/backends/backend_agg.py:240: RuntimeWarning: Glyph 21516 missing from current font.\n",
      "  font.set_text(s, 0.0, flags=flags)\n",
      "/home/orangex4/.local/lib/python3.8/site-packages/matplotlib/backends/backend_agg.py:240: RuntimeWarning: Glyph 30340 missing from current font.\n",
      "  font.set_text(s, 0.0, flags=flags)\n",
      "/home/orangex4/.local/lib/python3.8/site-packages/matplotlib/backends/backend_agg.py:240: RuntimeWarning: Glyph 20540 missing from current font.\n",
      "  font.set_text(s, 0.0, flags=flags)\n",
      "/home/orangex4/.local/lib/python3.8/site-packages/matplotlib/backends/backend_agg.py:240: RuntimeWarning: Glyph 20998 missing from current font.\n",
      "  font.set_text(s, 0.0, flags=flags)\n",
      "/home/orangex4/.local/lib/python3.8/site-packages/matplotlib/backends/backend_agg.py:240: RuntimeWarning: Glyph 31867 missing from current font.\n",
      "  font.set_text(s, 0.0, flags=flags)\n",
      "/home/orangex4/.local/lib/python3.8/site-packages/matplotlib/backends/backend_agg.py:240: RuntimeWarning: Glyph 20934 missing from current font.\n",
      "  font.set_text(s, 0.0, flags=flags)\n",
      "/home/orangex4/.local/lib/python3.8/site-packages/matplotlib/backends/backend_agg.py:240: RuntimeWarning: Glyph 30830 missing from current font.\n",
      "  font.set_text(s, 0.0, flags=flags)\n",
      "/home/orangex4/.local/lib/python3.8/site-packages/matplotlib/backends/backend_agg.py:240: RuntimeWarning: Glyph 29575 missing from current font.\n",
      "  font.set_text(s, 0.0, flags=flags)\n",
      "findfont: Font family ['sans-serif'] not found. Falling back to DejaVu Sans.\n",
      "findfont: Generic family 'sans-serif' not found because none of the following families were found: SimHei\n"
     ]
    },
    {
     "name": "stdout",
     "output_type": "stream",
     "text": [
      "The best k is 27\n",
      "The best accuracy is 36.0\n"
     ]
    },
    {
     "name": "stderr",
     "output_type": "stream",
     "text": [
      "/home/orangex4/.local/lib/python3.8/site-packages/matplotlib/backends/backend_agg.py:203: RuntimeWarning: Glyph 19981 missing from current font.\n",
      "  font.set_text(s, 0, flags=flags)\n",
      "/home/orangex4/.local/lib/python3.8/site-packages/matplotlib/backends/backend_agg.py:203: RuntimeWarning: Glyph 21516 missing from current font.\n",
      "  font.set_text(s, 0, flags=flags)\n",
      "/home/orangex4/.local/lib/python3.8/site-packages/matplotlib/backends/backend_agg.py:203: RuntimeWarning: Glyph 30340 missing from current font.\n",
      "  font.set_text(s, 0, flags=flags)\n",
      "/home/orangex4/.local/lib/python3.8/site-packages/matplotlib/backends/backend_agg.py:203: RuntimeWarning: Glyph 20540 missing from current font.\n",
      "  font.set_text(s, 0, flags=flags)\n",
      "/home/orangex4/.local/lib/python3.8/site-packages/matplotlib/backends/backend_agg.py:203: RuntimeWarning: Glyph 20998 missing from current font.\n",
      "  font.set_text(s, 0, flags=flags)\n",
      "/home/orangex4/.local/lib/python3.8/site-packages/matplotlib/backends/backend_agg.py:203: RuntimeWarning: Glyph 31867 missing from current font.\n",
      "  font.set_text(s, 0, flags=flags)\n",
      "/home/orangex4/.local/lib/python3.8/site-packages/matplotlib/backends/backend_agg.py:203: RuntimeWarning: Glyph 20934 missing from current font.\n",
      "  font.set_text(s, 0, flags=flags)\n",
      "/home/orangex4/.local/lib/python3.8/site-packages/matplotlib/backends/backend_agg.py:203: RuntimeWarning: Glyph 30830 missing from current font.\n",
      "  font.set_text(s, 0, flags=flags)\n",
      "/home/orangex4/.local/lib/python3.8/site-packages/matplotlib/backends/backend_agg.py:203: RuntimeWarning: Glyph 29575 missing from current font.\n",
      "  font.set_text(s, 0, flags=flags)\n"
     ]
    },
    {
     "data": {
      "image/png": "[encoded data removed]",
      "text/plain": [
       "<Figure size 432x288 with 1 Axes>"
      ]
     },
     "metadata": {
      "needs_background": "light"
     },
     "output_type": "display_data"
    }
   ],
   "source": [
    "import matplotlib.pyplot as plt\n",
    "\n",
    "k_values = range(1, 30, 2)\n",
    "k_accuracy = [handwritingClassTest(k) for k in k_values]\n"
   ]
  },
  {
   "cell_type": "code",
   "execution_count": 22,
   "metadata": {},
   "outputs": [
    {
     "name": "stdout",
     "output_type": "stream",
     "text": [
      "The best k is 3\n",
      "The best loss is 11.0\n"
     ]
    },
    {
     "data": {
      "image/png": "[encoded data removed]",
      "text/plain": [
       "<Figure size 432x288 with 1 Axes>"
      ]
     },
     "metadata": {
      "needs_background": "light"
     },
     "output_type": "display_data"
    }
   ],
   "source": [
    "# 输出最优的 k 值\n",
    "print('The best k is', k_values[k_accuracy.index(min(k_accuracy))])\n",
    "print('The best loss is', min(k_accuracy))\n",
    "\n",
    "# 生成折线图, 用于分析\n",
    "# plt.rcParams['font.sans-serif'] = []  # 用来正常显示中文标签\n",
    "plt.rcParams['axes.unicode_minus'] = False  # 用来正常显示负号\n",
    "\n",
    "# 'b': 颜色蓝色, 'o': 点形圆形, '-': 线形实线, 线条宽度为 2\n",
    "plt.plot(k_values, k_accuracy, 'bo-', linewidth=2)\n",
    "plt.xlabel('k')  # 横坐标轴的标题\n",
    "plt.ylabel('loss')  # 纵坐标轴的标题\n",
    "plt.grid()  # 显示网格\n",
    "# plt.title('不同的 k 值的 kNN 分类准确率') # 图形的标题\n",
    "\n",
    "# 显示图形\n",
    "plt.show()"
   ]
  },
  {
   "cell_type": "code",
   "execution_count": null,
   "metadata": {},
   "outputs": [],
   "source": []
  }
 ],
 "metadata": {
  "interpreter": {
   "hash": "916dbcbb3f70747c44a77c7bcd40155683ae19c65e1c03b4aa3499c5328201f1"
  },
  "kernelspec": {
   "display_name": "Python 3.8.10 64-bit",
   "language": "python",
   "name": "python3"
  },
  "language_info": {
   "codemirror_mode": {
    "name": "ipython",
    "version": 3
   },
   "file_extension": ".py",
   "mimetype": "text/x-python",
   "name": "python",
   "nbconvert_exporter": "python",
   "pygments_lexer": "ipython3",
   "version": "3.8.10"
  },
  "orig_nbformat": 4
 },
 "nbformat": 4,
 "nbformat_minor": 2
}
